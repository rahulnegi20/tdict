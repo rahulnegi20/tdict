{
 "cells": [
  {
   "cell_type": "code",
   "execution_count": 30,
   "id": "73e98971",
   "metadata": {},
   "outputs": [],
   "source": [
    "import ssl\n",
    "import urllib\n",
    "import json\n",
    "import os\n",
    "try:\n",
    "    from IPython.core.display import display, HTML\n",
    "except:\n",
    "    os.system('pip install IPython')\n",
    "\n",
    "\n",
    "ssl._create_default_https_context = ssl._create_unverified_context"
   ]
  },
  {
   "cell_type": "code",
   "execution_count": 94,
   "id": "9bd47d3d",
   "metadata": {},
   "outputs": [],
   "source": [
    "class Dictonary:\n",
    "    '''Pass the word inside the Dictonary and get the meaning along with example and audio pronaunciation\n",
    "    Dictonary('happy')\n",
    "    >>> ------------------------------------\n",
    "    >>> meaning: inclined to use a specified thing excessively or at random.\n",
    "    >>> ------------------------------------\n",
    "    >>> example: they tended to be grenade-happy\n",
    "    \n",
    "    '''\n",
    "    def __init__(self, word):\n",
    "        self.word = word\n",
    "        BASE_URL = 'http://api.dictionaryapi.dev/api/v2/entries/en_US/'\n",
    "        self.url = BASE_URL + word\n",
    "        \n",
    "        try:\n",
    "            response = json.load(urllib.request.urlopen(self.url))\n",
    "            response = response[-1]\n",
    "        except Exception as e:\n",
    "            print(e)\n",
    "            \n",
    "        try:\n",
    "            self.phonetic = response['phonetic']\n",
    "        except:\n",
    "            self.phonetic = 'None'\n",
    "        try:\n",
    "            self.origin = response['origin']\n",
    "        except:\n",
    "            self.origin = 'None'\n",
    "        try:\n",
    "            self.meaning = response['meanings'][-1]['definitions'][-1]['definition']\n",
    "        except:\n",
    "            self.meaning = 'None'\n",
    "        try:\n",
    "            self.example = response['meanings'][-1]['definitions'][-1]['example']\n",
    "        except:\n",
    "            self.example = 'None'\n",
    "        try:\n",
    "            self.audio_url = 'https:'+response['phonetics'][-1]['audio']\n",
    "        except:\n",
    "            self.audio_url = 'None'\n",
    "            \n",
    "        print('------------------------------------')\n",
    "        print(f'meaning: {self.meaning}')\n",
    "        print('------------------------------------')\n",
    "        print(f'example: {self.example}')\n",
    "        try:\n",
    "            self.show_audio_with_controls()\n",
    "        except:\n",
    "            pass\n",
    "        print('-------- Use class instance for more methods like word origin, phonetic, etc. --------')\n",
    "        print('-------- Please close the instance after-use to delete saved mp3 file ---------')\n",
    "    \n",
    "    def show_audio_with_controls(self):\n",
    "        urllib.request.urlretrieve(self.audio_url,f'{self.word}.mp3')\n",
    "        display(HTML(\"<audio controls><source src={}.mp3 type='audio/mpeg'></audio>\".format(self.word)))\n",
    "        \n",
    "    def close(self):\n",
    "        \n",
    "        mp3_file = f'{self.word}.mp3'\n",
    "        \n",
    "        try:\n",
    "            os.remove(mp3_file)\n",
    "        except OSError as e:  \n",
    "            pass\n",
    "        \n",
    "    @staticmethod\n",
    "    def credit():\n",
    "        print('--------------------------------------------------')\n",
    "        print('| Created on: 16th October 2021 by Aditya Rajgor |')\n",
    "        print('| Inspired from: @rahulnegi20 github repository  |')\n",
    "        print('| Author: Aditya Rajgor                          |')\n",
    "        print('| Open for contribution                          |')\n",
    "        print('--------------------------------------------------')\n",
    "        \n",
    "        pass\n",
    "        \n",
    "        "
   ]
  },
  {
   "cell_type": "code",
   "execution_count": 93,
   "id": "301febbd",
   "metadata": {
    "scrolled": true
   },
   "outputs": [
    {
     "name": "stdout",
     "output_type": "stream",
     "text": [
      "------------------------------------\n",
      "meaning: inclined to use a specified thing excessively or at random.\n",
      "------------------------------------\n",
      "example: they tended to be grenade-happy\n"
     ]
    },
    {
     "data": {
      "text/html": [
       "<audio controls><source src=happy.mp3 type='audio/mpeg'></audio>"
      ],
      "text/plain": [
       "<IPython.core.display.HTML object>"
      ]
     },
     "metadata": {},
     "output_type": "display_data"
    },
    {
     "name": "stdout",
     "output_type": "stream",
     "text": [
      "-------- Use class instance for more methods like word origin, phonetic, etc. --------\n",
      "-------- Please close the instance after-use to delete saved mp3 file ---------\n"
     ]
    },
    {
     "data": {
      "text/plain": [
       "<__main__.Dictonary at 0x27ee15af6d0>"
      ]
     },
     "execution_count": 93,
     "metadata": {},
     "output_type": "execute_result"
    }
   ],
   "source": [
    "Dictonary('happy')"
   ]
  }
 ],
 "metadata": {
  "kernelspec": {
   "display_name": "Python 3 (ipykernel)",
   "language": "python",
   "name": "python3"
  },
  "language_info": {
   "codemirror_mode": {
    "name": "ipython",
    "version": 3
   },
   "file_extension": ".py",
   "mimetype": "text/x-python",
   "name": "python",
   "nbconvert_exporter": "python",
   "pygments_lexer": "ipython3",
   "version": "3.9.1"
  }
 },
 "nbformat": 4,
 "nbformat_minor": 5
}
